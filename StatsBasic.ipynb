{
  "nbformat": 4,
  "nbformat_minor": 0,
  "metadata": {
    "colab": {
      "provenance": []
    },
    "kernelspec": {
      "name": "python3",
      "display_name": "Python 3"
    },
    "language_info": {
      "name": "python"
    }
  },
  "cells": [
    {
      "cell_type": "code",
      "source": [
        "# Two useful statistical libraries\n",
        "import scipy.stats as stats\n",
        "import numpy as np"
      ],
      "metadata": {
        "id": "FmSgG3rhGnVN"
      },
      "execution_count": 1,
      "outputs": []
    },
    {
      "cell_type": "markdown",
      "source": [
        "#Arithmetic Mean"
      ],
      "metadata": {
        "id": "ZPQPSwmoFr3D"
      }
    },
    {
      "cell_type": "markdown",
      "source": [
        "\n",
        "\n",
        "* Synonymous with Average\n",
        "* Quick window into the average of bunch of data\n",
        "* It is defined as following:\n",
        "$$ \\mu = \\frac{\\sum_{i=1}^{N} X_i}{N} $$\n",
        "where each $X_i$ are the data points.\n"
      ],
      "metadata": {
        "id": "AUwU5a3VGJ_3"
      }
    },
    {
      "cell_type": "code",
      "source": [
        "# We'll use the following two data sets as examples\n",
        "x1 = [i for i in range(0,10)]\n",
        "x2 = x1 + [100]\n",
        "\n",
        "\n",
        "print(\"A. mean of x1 is: \", sum(x1), '/', len(x1), '=', np.mean(x1))\n",
        "print(\"A. mean of x2 is: \", sum(x2), '/', len(x2), '=', np.mean(x2))\n",
        "\n",
        "\n",
        "\n"
      ],
      "metadata": {
        "colab": {
          "base_uri": "https://localhost:8080/"
        },
        "id": "ry3nbnKkFvJ_",
        "outputId": "7dba48b8-83ad-4808-9f32-8f3d8bb63045"
      },
      "execution_count": 3,
      "outputs": [
        {
          "output_type": "stream",
          "name": "stdout",
          "text": [
            "A. mean of x1 is:  45 / 10 = 4.5\n",
            "A. mean of x2 is:  145 / 11 = 13.181818181818182\n"
          ]
        }
      ]
    },
    {
      "cell_type": "markdown",
      "source": [
        "# Weighted Mean"
      ],
      "metadata": {
        "id": "AaZDVD43HaIX"
      }
    },
    {
      "cell_type": "markdown",
      "source": [
        "* Similiar to Arithmetic mean, however the difference now is that each data point $X_i$ has a multiplier assosciated with it, usually denoted as $w_i$, and we dont divide the cumulitave sum by the number of data points anymore\n",
        "* The formula is: $$ \\mu = \\sum_{i=1}^{N} w_i \\cdot X_i $$"
      ],
      "metadata": {
        "id": "BHhq0H4nHdJ3"
      }
    },
    {
      "cell_type": "code",
      "source": [
        "# In the context of financial math, suppose we have some portfolio\n",
        "# Each X_i represent different asset classes, i.e. equities, bonds, real estate and etc.\n",
        "# Then we could have for example given the equities in our portfolio %70 weight in measuing the Weighted Mean"
      ],
      "metadata": {
        "id": "jRHOsFVvHM3i"
      },
      "execution_count": 4,
      "outputs": []
    },
    {
      "cell_type": "markdown",
      "source": [
        "#Weighted Arithmetic Mean"
      ],
      "metadata": {
        "id": "ck4XhhuJInCb"
      }
    },
    {
      "cell_type": "markdown",
      "source": [
        "* Weighted Artihmetic Mean is just a special case of Weighted mean in which case $\\sum_{i=1}^{N} w_i = 1$"
      ],
      "metadata": {
        "id": "cyqFjMDEIp-y"
      }
    },
    {
      "cell_type": "markdown",
      "source": [
        "# Median"
      ],
      "metadata": {
        "id": "M6MofLuEI2QW"
      }
    },
    {
      "cell_type": "markdown",
      "source": [
        "\n",
        "\n",
        "*   The median is simply the exact data point which occurs right in the middle of the list of data points when arranged in decreasing or ascending manner.\n",
        "*   In the case where $N$ is odd, we simply just choose the $\n",
        "(n+1)/2$ term\n",
        "\n",
        "* In the case where $N$ is even, since there is no exact middle term in an even numbered objects, we simply just choose the average of the $n/2$ and $(n+2)/2$ terms.\n",
        "\n",
        "\n"
      ],
      "metadata": {
        "id": "8Wx53dO9JC7K"
      }
    },
    {
      "cell_type": "code",
      "source": [
        "print('Median of x1:', np.median(x1))\n",
        "print('Median of x2:', np.median(x2))"
      ],
      "metadata": {
        "colab": {
          "base_uri": "https://localhost:8080/"
        },
        "id": "tQ-vWBt5Ifyl",
        "outputId": "cc52a2a9-81db-416a-c5de-e6111829dbc3"
      },
      "execution_count": 5,
      "outputs": [
        {
          "output_type": "stream",
          "name": "stdout",
          "text": [
            "Median of x1: 4.5\n",
            "Median of x2: 5.0\n"
          ]
        }
      ]
    },
    {
      "cell_type": "code",
      "source": [],
      "metadata": {
        "id": "ERGgCedzbGtF"
      },
      "execution_count": null,
      "outputs": []
    }
  ]
}