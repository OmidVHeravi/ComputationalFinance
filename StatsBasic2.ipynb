{
  "nbformat": 4,
  "nbformat_minor": 0,
  "metadata": {
    "colab": {
      "provenance": [],
      "authorship_tag": "ABX9TyPCIBq/aOYtP4ZjTdRd6nJZ"
    },
    "kernelspec": {
      "name": "python3",
      "display_name": "Python 3"
    },
    "language_info": {
      "name": "python"
    }
  },
  "cells": [
    {
      "cell_type": "markdown",
      "source": [
        "#Measures of Dispersion"
      ],
      "metadata": {
        "id": "SDt32nwkePmT"
      }
    },
    {
      "cell_type": "markdown",
      "source": [
        "By dispersion, aka the spread of some data set, we essentially measure the variance of the probability distribution. This is incredibly important in finance since the risk is measured via measuring the spread over the historical returns of some asset. The more centered the variance or the spread, the less risky the asset, whereas if the spread seems to deviate far too much from central value, then the asset is naturally very risky."
      ],
      "metadata": {
        "id": "OP6UdGLTeVe4"
      }
    },
    {
      "cell_type": "code",
      "source": [
        "# We can examine this by trying it out on some random data\n",
        "import numpy as np\n",
        "np.random.seed(11)"
      ],
      "metadata": {
        "id": "21Jb_OqceVAt"
      },
      "execution_count": 1,
      "outputs": []
    },
    {
      "cell_type": "code",
      "source": [
        "# gen. 50 random ints less than 100\n",
        "Returns = np.random.randint(100, size=20)\n",
        "\n",
        "# sort them\n",
        "Returns = np.sort(Returns)\n",
        "print(\"Returns:\", Returns)\n",
        "\n",
        "mu = np.mean(Returns)\n",
        "print(\"Mean of Returns: \", mu)"
      ],
      "metadata": {
        "colab": {
          "base_uri": "https://localhost:8080/"
        },
        "id": "Kt2as6DMp9Cj",
        "outputId": "c8f4003c-4e80-4cd0-a15d-73f51a3bf4d2"
      },
      "execution_count": 2,
      "outputs": [
        {
          "output_type": "stream",
          "name": "stdout",
          "text": [
            "Returns: [ 1  4 12 13 24 25 32 33 34 45 48 55 63 71 76 80 81 82 91 92]\n",
            "Mean of Returns:  48.1\n"
          ]
        }
      ]
    },
    {
      "cell_type": "markdown",
      "source": [
        "#Range"
      ],
      "metadata": {
        "id": "sqLTS3xKreOr"
      }
    },
    {
      "cell_type": "markdown",
      "source": [
        "This is simply the difference between the minimum and the maximum of the data points. Thus, if there is an outlier in the dataset, it will heavily skew the value of the *Range*."
      ],
      "metadata": {
        "id": "V3TFAdvjrfuX"
      }
    },
    {
      "cell_type": "code",
      "source": [
        "Range = np.ptp(Returns)\n",
        "print(\"Range is: \", Range)"
      ],
      "metadata": {
        "colab": {
          "base_uri": "https://localhost:8080/"
        },
        "id": "-7SgpOEKrWQ0",
        "outputId": "cb7ccaa3-3534-4c47-8223-0d06f8c3a081"
      },
      "execution_count": 3,
      "outputs": [
        {
          "output_type": "stream",
          "name": "stdout",
          "text": [
            "Range is:  91\n"
          ]
        }
      ]
    },
    {
      "cell_type": "markdown",
      "source": [
        "# Mean Absolute Deviation (MAD)"
      ],
      "metadata": {
        "id": "elKQmxfNr6g7"
      }
    },
    {
      "cell_type": "markdown",
      "source": [
        "This is the mean of the $L_1$ distance between the data points and their arithmetic mean. $\\mu$ is the arithemtic mean, and $N$ is the number of data samples.\n",
        "$$\n",
        "\\text{MAD} = \\frac{\\sum_{i=1}^{N}|X_i - \\mu|}{N}\n",
        "$$"
      ],
      "metadata": {
        "id": "CRh7wVPfr85D"
      }
    },
    {
      "cell_type": "code",
      "source": [
        "meanAbsDev = np.sum([np.abs(mu - x) for x in Returns])/len(Returns)\n",
        "print(\"MAD: \", meanAbsDev)"
      ],
      "metadata": {
        "id": "balj387qr0KY",
        "colab": {
          "base_uri": "https://localhost:8080/"
        },
        "outputId": "f0e87c3a-f7d9-483c-8223-19381cf98b0e"
      },
      "execution_count": 4,
      "outputs": [
        {
          "output_type": "stream",
          "name": "stdout",
          "text": [
            "MAD:  25.809999999999995\n"
          ]
        }
      ]
    },
    {
      "cell_type": "markdown",
      "source": [
        "#Variance and standard deviation"
      ],
      "metadata": {
        "id": "S4QDPMM9kqye"
      }
    },
    {
      "cell_type": "markdown",
      "source": [
        "The variance, denoted as $\\sigma^2$, is defined as the average of the squared distance between the mean and the sample data points; $$\n",
        "\\sigma^2 = \\frac{\\sum_{i=1}^{N} (X_i - \\mu)^2}{N}\n",
        "$$"
      ],
      "metadata": {
        "id": "mKs7zlo6kq5s"
      }
    },
    {
      "cell_type": "markdown",
      "source": [
        "Notice that unlike the mean absolute deviation, which uses the absolute value as opposed to squaring the distances, variance is real differentiable where as absolute value is not, and since most optimization algorithms rely heavily on differentiability, hence why we prefer variance to mean asbolute deviation."
      ],
      "metadata": {
        "id": "3Q6K7puVpWnO"
      }
    },
    {
      "cell_type": "code",
      "source": [
        "print(\"Variance of Returns: \", np.var(Returns))\n",
        "print(\"Standard Deviation of Returns: \", np.std(Returns))"
      ],
      "metadata": {
        "colab": {
          "base_uri": "https://localhost:8080/"
        },
        "id": "8bYHnot_kX8E",
        "outputId": "3f88a2a7-fc4c-498e-ee21-23c2a7113d52"
      },
      "execution_count": 5,
      "outputs": [
        {
          "output_type": "stream",
          "name": "stdout",
          "text": [
            "Variance of Returns:  854.89\n",
            "Standard Deviation of Returns:  29.23850201361212\n"
          ]
        }
      ]
    },
    {
      "cell_type": "markdown",
      "source": [
        "Side note: Recall ***Chebyshev's inequality*** which states that:\n",
        "$$\n",
        "P(|X-\\mu| \\geq k\\sigma) \\leq \\frac{1}{k^2}\n",
        "$$\n",
        "That is; for any random variable with finite expected value, i.e. $\\mu$, and finite non-zero variance $\\sigma^2$, and for any $k>0$, the probability that $X$ is more than $k$ std away from $\\mu$ is *at most* $\\frac{1}{k^2}$."
      ],
      "metadata": {
        "id": "ZwMOvfv-p8-h"
      }
    },
    {
      "cell_type": "markdown",
      "source": [
        "This could help us gain an intution with regards to standard deviation and that is that the proportion of data points within $k$ standard deviation, i.e. $k \\cdot σ$, away from the mean is at least $1 - \\frac{1}{k^2}$."
      ],
      "metadata": {
        "id": "oD82ocmosDf2"
      }
    },
    {
      "cell_type": "code",
      "source": [
        "# Let us verify this\n",
        "# fix k=1.25 any constant\n",
        "k = 1.25\n",
        "dist = k*np.std(Returns)\n",
        "l = [x for x in Returns if abs(x - mu) <= dist]\n",
        "print(\"Number of observations within \", k , 'std. away from the mean is: ', l)\n",
        "print(\"Confirming that: \", float(len(l))/len(Returns), \" > \", 1 - 1/k**2)\n"
      ],
      "metadata": {
        "colab": {
          "base_uri": "https://localhost:8080/"
        },
        "id": "aBanbkQLpzbU",
        "outputId": "daa651a0-4beb-42b4-cb59-01ab9a3b8368"
      },
      "execution_count": 6,
      "outputs": [
        {
          "output_type": "stream",
          "name": "stdout",
          "text": [
            "Number of observations within  1.25 std. away from the mean is:  [12, 13, 24, 25, 32, 33, 34, 45, 48, 55, 63, 71, 76, 80, 81, 82]\n",
            "Confirming that:  0.8  >  0.36\n"
          ]
        }
      ]
    },
    {
      "cell_type": "markdown",
      "source": [
        "Notice that the bound given by Chebyshev's inequality seems fairly loose in this case. This bound is rarely strict, but it is useful because it holds for all data sets and distributions."
      ],
      "metadata": {
        "id": "zk2ml3WXvqaT"
      }
    },
    {
      "cell_type": "markdown",
      "source": [
        "#Semivariance and semideviation"
      ],
      "metadata": {
        "id": "j5HY1736vuD5"
      }
    },
    {
      "cell_type": "markdown",
      "source": [
        "Although variance and standard deviation tell us how volatile a quantity is, they do not differentiate between deviations upward and deviations downward. However it becomes ever more important in asset return analysis to be able to differentiate between deviations downward and or upward. This is exactly where semivariance and semideviations become useful in capturing the number of data points that are below the mean. Thus ***semivariance*** is defined as:\n",
        "$$\n",
        "\\text{Semi Variance = }\\frac{\\sum_{X_i < \\mu}^{N} (X_i - \\mu)^2}{N_<}\n",
        "$$\n",
        "where $N_<$ is the number of data points below the mean. ***Semideviation*** is just the square root of semivariance.\n",
        "\n",
        "\n"
      ],
      "metadata": {
        "id": "Wiy0gr-JvwLa"
      }
    },
    {
      "cell_type": "code",
      "source": [
        "# Because there is no built-in semideviation function thus we can implement our own\n",
        "lows = [i for i in Returns if i < mu]\n",
        "\n",
        "semivar = np.sum( (lows - mu)**2 )/len(lows)"
      ],
      "metadata": {
        "id": "YjH-r5UklNwu"
      },
      "execution_count": 7,
      "outputs": []
    },
    {
      "cell_type": "code",
      "source": [
        "print('Semivariance of X:', semivar)\n",
        "print('Semideviation of X:', np.sqrt(semivar))"
      ],
      "metadata": {
        "colab": {
          "base_uri": "https://localhost:8080/"
        },
        "id": "L77v_SoQm3rJ",
        "outputId": "2826127b-10e5-40fa-f7c9-468cfd89f290"
      },
      "execution_count": 8,
      "outputs": [
        {
          "output_type": "stream",
          "name": "stdout",
          "text": [
            "Semivariance of X: 773.5009090909091\n",
            "Semideviation of X: 27.811884313920714\n"
          ]
        }
      ]
    },
    {
      "cell_type": "markdown",
      "source": [
        "If we instead alter the \"mean\" in the formula above to any arbitrary value, say $K$, then we can technically filter out any value above that target value $K$, ergo targeted semivaraince/semideviation. That is, let $K$ be some nonnegative value, then we have that:\n",
        "$$\n",
        "\\text{targeted semivaraince} = \\frac{\\sum_{X_i < K}^{N} (X_i - K)}{N_{< K}}\n",
        "$$"
      ],
      "metadata": {
        "id": "tP4suQBFsEiE"
      }
    },
    {
      "cell_type": "code",
      "source": [
        "K = 100\n",
        "lows_K = [e for e in Returns if e <= K]\n",
        "semivar_K = sum(map(lambda x: (x - K)**2,lows_K))/len(lows_K)\n",
        "\n",
        "print('Target semivariance of X:', semivar_K)\n",
        "print('Target semideviation of X:', np.sqrt(semivar_K))"
      ],
      "metadata": {
        "colab": {
          "base_uri": "https://localhost:8080/"
        },
        "id": "tFoFQvOmm95K",
        "outputId": "eaf2bc26-c258-4be4-957c-67950f0c6f9f"
      },
      "execution_count": 9,
      "outputs": [
        {
          "output_type": "stream",
          "name": "stdout",
          "text": [
            "Target semivariance of X: 3548.5\n",
            "Target semideviation of X: 59.56928738872071\n"
          ]
        }
      ]
    },
    {
      "cell_type": "code",
      "source": [
        "import yfinance as yf\n",
        "\n",
        "# Download historical data for desired ticker symbol\n",
        "data = yf.download('AAPL', start='2020-01-01', end='2023-7-01')['Close']\n",
        "\n",
        "# Lets try these on some real historical prices\n",
        "# we use the Rolling mean function from numpy with 30 day window and then obtain the variance & std\n",
        "variance = data.rolling(window=30).var()\n",
        "std = data.rolling(window=30).std()\n"
      ],
      "metadata": {
        "colab": {
          "base_uri": "https://localhost:8080/"
        },
        "id": "3ofxCizIs4yw",
        "outputId": "a9907ed2-892b-4774-dec2-3bc62aac0c5b"
      },
      "execution_count": 10,
      "outputs": [
        {
          "output_type": "stream",
          "name": "stdout",
          "text": [
            "\r[*********************100%***********************]  1 of 1 completed\n"
          ]
        }
      ]
    },
    {
      "cell_type": "markdown",
      "source": [
        "Suppos we wish to model the ***portfolio variance*** which is defined as:\n",
        "$$\n",
        "\\text{VAR_p} = \\text{VAR}_{s_1}(w_1^2) + \\text{VAR}_{s_2}(w_2^2) + \\text{COVAR}_{s_1,s_2}(2w_1w_2)\n",
        "$$\n",
        "where $w_1,w_2$ are the weights of the the respective assets $s_1,s_2$. We want to specificaly find the weights so that the $\\text{VAR_p} = 50$."
      ],
      "metadata": {
        "id": "vd6uZSPdiM4e"
      }
    },
    {
      "cell_type": "code",
      "source": [
        "asset1 = yf.download('AAPL',  start='2020-01-01', end='2023-7-01')['Close']\n",
        "asset2 = yf.download('NVDA',  start='2020-01-01', end='2023-7-01')['Close']"
      ],
      "metadata": {
        "colab": {
          "base_uri": "https://localhost:8080/"
        },
        "id": "UpU4bYiEiDmk",
        "outputId": "a5f30ff4-5edd-4a6e-9ed0-a627885d21b2"
      },
      "execution_count": 11,
      "outputs": [
        {
          "output_type": "stream",
          "name": "stdout",
          "text": [
            "[*********************100%***********************]  1 of 1 completed\n",
            "[*********************100%***********************]  1 of 1 completed\n"
          ]
        }
      ]
    },
    {
      "cell_type": "code",
      "source": [
        "cov = np.cov(asset1, asset2)[0,1] # obtain the covaraince matrix between APPLE and NVIDIA stock\n",
        "\n",
        "w1 = 0.87 # in this example we fixed the weights, as we did not do any linear regression to find the weights\n",
        "w2 = 1 - w1\n",
        "\n",
        "v1 = np.var(asset1)\n",
        "v2 = np.var(asset2)\n",
        "\n",
        "pvariance = (w1**2)*v1+(w2**2)*v2+(2*w1*w2)*cov\n",
        "\n",
        "print(\"Portfolio variance is: \", pvariance)"
      ],
      "metadata": {
        "colab": {
          "base_uri": "https://localhost:8080/"
        },
        "id": "7uSMyXYZjE2i",
        "outputId": "9c19efbe-d17f-4834-f755-e551915564f2"
      },
      "execution_count": 13,
      "outputs": [
        {
          "output_type": "stream",
          "name": "stdout",
          "text": [
            "Portfolio variance is:  1276.3249930194775\n"
          ]
        }
      ]
    },
    {
      "cell_type": "code",
      "source": [],
      "metadata": {
        "id": "qNSO7dtAjfq9"
      },
      "execution_count": 12,
      "outputs": []
    }
  ]
}