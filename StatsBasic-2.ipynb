{
  "nbformat": 4,
  "nbformat_minor": 0,
  "metadata": {
    "colab": {
      "provenance": []
    },
    "kernelspec": {
      "name": "python3",
      "display_name": "Python 3"
    },
    "language_info": {
      "name": "python"
    }
  },
  "cells": [
    {
      "cell_type": "code",
      "source": [
        "# Two useful statistical libraries\n",
        "import scipy.stats as stats\n",
        "import numpy as np"
      ],
      "metadata": {
        "id": "FmSgG3rhGnVN"
      },
      "execution_count": 1,
      "outputs": []
    },
    {
      "cell_type": "markdown",
      "source": [
        "#Arithmetic Mean"
      ],
      "metadata": {
        "id": "ZPQPSwmoFr3D"
      }
    },
    {
      "cell_type": "markdown",
      "source": [
        "\n",
        "\n",
        "* Synonymous with Average\n",
        "* Quick window into the average of bunch of data\n",
        "* It is defined as following:\n",
        "$$ \\mu = \\frac{\\sum_{i=1}^{N} X_i}{N} $$\n",
        "where each $X_i$ are the data points.\n"
      ],
      "metadata": {
        "id": "AUwU5a3VGJ_3"
      }
    },
    {
      "cell_type": "code",
      "source": [
        "# We'll use the following two data sets as examples\n",
        "x1 = [i for i in range(0,10)]\n",
        "x2 = x1 + [100]\n",
        "\n",
        "\n",
        "print(\"A. mean of x1 is: \", sum(x1), '/', len(x1), '=', np.mean(x1))\n",
        "print(\"A. mean of x2 is: \", sum(x2), '/', len(x2), '=', np.mean(x2))\n",
        "\n",
        "\n",
        "\n"
      ],
      "metadata": {
        "colab": {
          "base_uri": "https://localhost:8080/"
        },
        "id": "ry3nbnKkFvJ_",
        "outputId": "1228ce37-8066-46aa-f3f7-96f94ef47c93"
      },
      "execution_count": 2,
      "outputs": [
        {
          "output_type": "stream",
          "name": "stdout",
          "text": [
            "A. mean of x1 is:  45 / 10 = 4.5\n",
            "A. mean of x2 is:  145 / 11 = 13.181818181818182\n"
          ]
        }
      ]
    },
    {
      "cell_type": "markdown",
      "source": [
        "# Weighted Mean"
      ],
      "metadata": {
        "id": "AaZDVD43HaIX"
      }
    },
    {
      "cell_type": "markdown",
      "source": [
        "* Similiar to Arithmetic mean, however the difference now is that each data point $X_i$ has a multiplier assosciated with it, usually denoted as $w_i$, and we dont divide the cumulitave sum by the number of data points anymore\n",
        "* The formula is: $$ \\mu = \\sum_{i=1}^{N} w_i \\cdot X_i $$"
      ],
      "metadata": {
        "id": "BHhq0H4nHdJ3"
      }
    },
    {
      "cell_type": "code",
      "source": [
        "# In the context of financial math, suppose we have some portfolio\n",
        "# Each X_i represent different asset classes, i.e. equities, bonds, real estate and etc.\n",
        "# Then we could have for example given the equities in our portfolio %70 weight in measuing the Weighted Mean"
      ],
      "metadata": {
        "id": "jRHOsFVvHM3i"
      },
      "execution_count": 3,
      "outputs": []
    },
    {
      "cell_type": "markdown",
      "source": [
        "#Weighted Arithmetic Mean"
      ],
      "metadata": {
        "id": "ck4XhhuJInCb"
      }
    },
    {
      "cell_type": "markdown",
      "source": [
        "* Weighted Artihmetic Mean is just a special case of Weighted mean in which case $\\sum_{i=1}^{N} w_i = 1$"
      ],
      "metadata": {
        "id": "cyqFjMDEIp-y"
      }
    },
    {
      "cell_type": "markdown",
      "source": [
        "# Median"
      ],
      "metadata": {
        "id": "M6MofLuEI2QW"
      }
    },
    {
      "cell_type": "markdown",
      "source": [
        "\n",
        "\n",
        "*   The median is simply the exact data point which occurs right in the middle of the list of data points when arranged in decreasing or ascending manner.\n",
        "*   In the case where $N$ is odd, we simply just choose the $\n",
        "(n+1)/2$ term\n",
        "\n",
        "* In the case where $N$ is even, since there is no exact middle term in an even numbered objects, we simply just choose the average of the $n/2$ and $(n+2)/2$ terms.\n",
        "\n",
        "\n"
      ],
      "metadata": {
        "id": "8Wx53dO9JC7K"
      }
    },
    {
      "cell_type": "code",
      "source": [
        "print('Median of x1:', np.median(x1))\n",
        "print('Median of x2:', np.median(x2))"
      ],
      "metadata": {
        "colab": {
          "base_uri": "https://localhost:8080/"
        },
        "id": "tQ-vWBt5Ifyl",
        "outputId": "a1294b5e-8fb4-4430-c6ae-53b86479ab7b"
      },
      "execution_count": 4,
      "outputs": [
        {
          "output_type": "stream",
          "name": "stdout",
          "text": [
            "Median of x1: 4.5\n",
            "Median of x2: 5.0\n"
          ]
        }
      ]
    },
    {
      "cell_type": "markdown",
      "source": [
        "#Mode"
      ],
      "metadata": {
        "id": "cHpnscxFsQls"
      }
    },
    {
      "cell_type": "markdown",
      "source": [
        "We can understand the *Mode* as the value which occurs the most among the data points, thus making it even applicable to non-numeric data as well. The *Mode* of some data set becomes extremely relevant when the underlying assumption about the data is that they are independant from one another. Meaning, suppose we were to examine the *Mode* of the outcome of weighted die over several trials, and we observe that 6 is the mode, then that informs us in which way the die is weighted to favor a certain outcome as opposed to examining the mean, which might be 4.5"
      ],
      "metadata": {
        "id": "nDDQ2yWCsRup"
      }
    },
    {
      "cell_type": "code",
      "source": [
        "# Scipy has a built-in mode function, but it will return exactly one value\n",
        "# even if two values occur the same number of times, or if no value appears more than once\n",
        "print('Mode of x1:', stats.mode(x1)[0][0])"
      ],
      "metadata": {
        "colab": {
          "base_uri": "https://localhost:8080/"
        },
        "id": "ERGgCedzbGtF",
        "outputId": "d9760008-20b8-4bd1-fe7b-b2e9fc94716b"
      },
      "execution_count": 5,
      "outputs": [
        {
          "output_type": "stream",
          "name": "stdout",
          "text": [
            "Mode of x1: 0\n"
          ]
        },
        {
          "output_type": "stream",
          "name": "stderr",
          "text": [
            "<ipython-input-5-e80e56e938eb>:3: FutureWarning: Unlike other reduction functions (e.g. `skew`, `kurtosis`), the default behavior of `mode` typically preserves the axis it acts along. In SciPy 1.11.0, this behavior will change: the default value of `keepdims` will become False, the `axis` over which the statistic is taken will be eliminated, and the value None will no longer be accepted. Set `keepdims` to True or False to avoid this warning.\n",
            "  print('Mode of x1:', stats.mode(x1)[0][0])\n"
          ]
        }
      ]
    },
    {
      "cell_type": "code",
      "source": [
        "# One can also define its own, albeit rather naive implementation\n",
        "def mode(l : list[int]) -> int:\n",
        "\n",
        "    dic = dict()\n",
        "\n",
        "    for i in l:\n",
        "      if i in dic.keys():\n",
        "        dic[i] += 1\n",
        "      else:\n",
        "        dic[i] = 1\n",
        "\n",
        "    max = 0\n",
        "    val = 0\n",
        "\n",
        "    for i,j in enumerate(dic.items()):\n",
        "\n",
        "      if j[1] > max:\n",
        "\n",
        "        max = j[1]\n",
        "        val = j[0]\n",
        "\n",
        "    return val\n",
        "\n",
        "x3 = [3, 2, 3, 3, 4, 5, 5]\n",
        "(mode(x3))"
      ],
      "metadata": {
        "colab": {
          "base_uri": "https://localhost:8080/"
        },
        "id": "NSeBuSyJtUTy",
        "outputId": "023c6608-1907-4f12-b401-c0d6318c0d42"
      },
      "execution_count": 6,
      "outputs": [
        {
          "output_type": "execute_result",
          "data": {
            "text/plain": [
              "3"
            ]
          },
          "metadata": {},
          "execution_count": 6
        }
      ]
    },
    {
      "cell_type": "markdown",
      "source": [
        "#Bins in Financial Data"
      ],
      "metadata": {
        "id": "LVeepdeN-DIA"
      }
    },
    {
      "cell_type": "markdown",
      "source": [
        "If we encounter a data set, in which all the data points do occur at most once, then it is rather difficult to find the mode and or even implement a historgram, so rather we instead can split our data set into $n$ many interval where each subinterval is some fixed length, aka bin. And then we proceed to find the *Mode* amongst the bins."
      ],
      "metadata": {
        "id": "AShOkmJ8-HfS"
      }
    },
    {
      "cell_type": "code",
      "source": [
        "# Get return data for an asset and compute the mode of the data set\n",
        "start = '2014-01-01'\n",
        "end = '2015-01-01'"
      ],
      "metadata": {
        "id": "WyPy_Ehd8po3"
      },
      "execution_count": 7,
      "outputs": []
    },
    {
      "cell_type": "code",
      "source": [
        "import yfinance as yf\n",
        "\n",
        "data = yf.download('AAPL', start='2020-01-01', end='2020-12-31')['Close']"
      ],
      "metadata": {
        "colab": {
          "base_uri": "https://localhost:8080/"
        },
        "id": "NWb9jQIv-v0u",
        "outputId": "8f846e9d-770d-40a1-8860-4ff9ad89b469"
      },
      "execution_count": 8,
      "outputs": [
        {
          "output_type": "stream",
          "name": "stdout",
          "text": [
            "\r[*********************100%***********************]  1 of 1 completed\n"
          ]
        }
      ]
    },
    {
      "cell_type": "code",
      "source": [
        "returns = data.pct_change()[1:]"
      ],
      "metadata": {
        "id": "riSNcX0m-xxP"
      },
      "execution_count": 9,
      "outputs": []
    },
    {
      "cell_type": "code",
      "source": [
        "print('Mode of returns:', mode(returns))"
      ],
      "metadata": {
        "colab": {
          "base_uri": "https://localhost:8080/"
        },
        "id": "jouEEZhd_CWB",
        "outputId": "ca468bd9-538a-45b4-9252-b242e34f3104"
      },
      "execution_count": 10,
      "outputs": [
        {
          "output_type": "stream",
          "name": "stdout",
          "text": [
            "Mode of returns: -0.00972203551987938\n"
          ]
        }
      ]
    },
    {
      "cell_type": "code",
      "source": [
        "# np.histogram returns the frequency distribution over the bins as well as the endpoints of the bins\n",
        "hist, bins = np.histogram(returns, 20) # Break data up into 20 bins\n",
        "maxfreq = max(hist)\n",
        "\n",
        "# Find all of the bins that are hit with frequency maxfreq, then print the intervals corresponding to them\n",
        "print('Mode of bins:', [(bins[i], bins[i+1]) for i, j in enumerate(hist) if j == maxfreq])"
      ],
      "metadata": {
        "colab": {
          "base_uri": "https://localhost:8080/"
        },
        "id": "yf6G6Snp_p5d",
        "outputId": "8e65026d-7a61-45d9-cd15-a4db83964656"
      },
      "execution_count": 11,
      "outputs": [
        {
          "output_type": "stream",
          "name": "stdout",
          "text": [
            "Mode of bins: [(-0.0044193447092110705, 0.008003416416441617)]\n"
          ]
        }
      ]
    },
    {
      "cell_type": "markdown",
      "source": [
        "#Geometric Mean"
      ],
      "metadata": {
        "id": "Kb-6QroocOkV"
      }
    },
    {
      "cell_type": "markdown",
      "source": [
        "Unlike the arithmetic mean, the geometric mean is †he multiplication of the data points with the $n$^th root of the total product:\n",
        "$$\n",
        "\\text{Geometric Mean} = \\sqrt[n]{X_1 \\cdot X_2 \\cdot ... \\cdot X_n} =\n",
        "$$\n",
        "Where each $X_i \\geq 0$ are non-negative data points.\n",
        "\n",
        "Furthermore, it is always the case that $$ \\text{Geom. Mean} \\leq \\text{Arith. Mean} $$"
      ],
      "metadata": {
        "id": "2nZUWRuScRCJ"
      }
    },
    {
      "cell_type": "code",
      "source": [
        "# Use scipy's gmean function to compute the geometric mean\n",
        "print('Geometric mean of x1:', stats.gmean(x1))\n",
        "print('Geometric mean of x2:', stats.gmean(x2))"
      ],
      "metadata": {
        "id": "PzwVPi92_uWR",
        "colab": {
          "base_uri": "https://localhost:8080/"
        },
        "outputId": "71ac7f16-2c5d-4d03-d1bb-7b7c853d3287"
      },
      "execution_count": 12,
      "outputs": [
        {
          "output_type": "stream",
          "name": "stdout",
          "text": [
            "Geometric mean of x1: 0.0\n",
            "Geometric mean of x2: 0.0\n"
          ]
        }
      ]
    },
    {
      "cell_type": "markdown",
      "source": [
        "What if we want to compute the geometric mean when we have negative observations? Suppose once again our data points represent asset returns, and since we are concerned with percent change, the minimum value is at most $-1$, thus it suffices to just add $1$ to each $X_i$, and instead we have:\n",
        "$$\n",
        "X' = \\sqrt[n]{(1+X_1) \\cdot (1+X_2) \\cdot ... \\cdot (1+X_n)} - 1\n",
        "$$"
      ],
      "metadata": {
        "id": "eO8vlpDFh2ot"
      }
    },
    {
      "cell_type": "code",
      "source": [
        "# Add 1 to every value in the returns array and then compute R_G\n",
        "ratios = returns + np.ones(len(returns))\n",
        "X_new = stats.gmean(ratios) - 1\n",
        "print('Geometric mean of returns:', X_new)"
      ],
      "metadata": {
        "colab": {
          "base_uri": "https://localhost:8080/"
        },
        "id": "IOESi_kwexPW",
        "outputId": "9060af09-1279-465a-b14b-59add247a6ca"
      },
      "execution_count": 17,
      "outputs": [
        {
          "output_type": "stream",
          "name": "stdout",
          "text": [
            "Geometric mean of returns: 0.002301824223453375\n"
          ]
        }
      ]
    },
    {
      "cell_type": "markdown",
      "source": [
        "The geometric mean is defined so that if the rate of return over the whole time period were constant and equal to $X_{new}$, then the final price of the security would be the same as in the case of returns $X_1,...,X_n$."
      ],
      "metadata": {
        "id": "-UBFiqF3l4xf"
      }
    },
    {
      "cell_type": "code",
      "source": [
        "T = len(returns)\n",
        "init_price = data[0]\n",
        "final_price = data[T]\n",
        "print('Initial price:', init_price)\n",
        "print('Final price:', final_price)\n",
        "print('Final price as computed with X_new:', init_price*(1 + X_new)**T)"
      ],
      "metadata": {
        "colab": {
          "base_uri": "https://localhost:8080/"
        },
        "id": "G9WvQ4wKktm7",
        "outputId": "24c8038b-128f-415b-fce2-7439687d1541"
      },
      "execution_count": 18,
      "outputs": [
        {
          "output_type": "stream",
          "name": "stdout",
          "text": [
            "Initial price: 75.0875015258789\n",
            "Final price: 133.72000122070312\n",
            "Final price as computed with X_new: 133.72000122070096\n"
          ]
        }
      ]
    }
  ]
}