{
  "nbformat": 4,
  "nbformat_minor": 0,
  "metadata": {
    "colab": {
      "provenance": []
    },
    "kernelspec": {
      "name": "python3",
      "display_name": "Python 3"
    },
    "language_info": {
      "name": "python"
    }
  },
  "cells": [
    {
      "cell_type": "code",
      "source": [
        "# Two useful statistical libraries\n",
        "import scipy.stats as stats\n",
        "import numpy as np"
      ],
      "metadata": {
        "id": "FmSgG3rhGnVN"
      },
      "execution_count": 1,
      "outputs": []
    },
    {
      "cell_type": "markdown",
      "source": [
        "#Arithmetic Mean"
      ],
      "metadata": {
        "id": "ZPQPSwmoFr3D"
      }
    },
    {
      "cell_type": "markdown",
      "source": [
        "\n",
        "\n",
        "* Synonymous with Average\n",
        "* Quick window into the average of bunch of data\n",
        "* It is defined as following:\n",
        "$$ \\mu = \\frac{\\sum_{i=1}^{N} X_i}{N} $$\n",
        "where each $X_i$ are the data points.\n"
      ],
      "metadata": {
        "id": "AUwU5a3VGJ_3"
      }
    },
    {
      "cell_type": "code",
      "source": [
        "# We'll use the following two data sets as examples\n",
        "x1 = [i for i in range(0,10)]\n",
        "x2 = x1 + [100]\n",
        "\n",
        "\n",
        "print(\"A. mean of x1 is: \", sum(x1), '/', len(x1), '=', np.mean(x1))\n",
        "print(\"A. mean of x2 is: \", sum(x2), '/', len(x2), '=', np.mean(x2))\n",
        "\n",
        "\n",
        "\n"
      ],
      "metadata": {
        "colab": {
          "base_uri": "https://localhost:8080/"
        },
        "id": "ry3nbnKkFvJ_",
        "outputId": "14212ab4-923e-4bec-8aaf-5639fb4fa1ae"
      },
      "execution_count": 2,
      "outputs": [
        {
          "output_type": "stream",
          "name": "stdout",
          "text": [
            "A. mean of x1 is:  45 / 10 = 4.5\n",
            "A. mean of x2 is:  145 / 11 = 13.181818181818182\n"
          ]
        }
      ]
    },
    {
      "cell_type": "markdown",
      "source": [
        "# Weighted Mean"
      ],
      "metadata": {
        "id": "AaZDVD43HaIX"
      }
    },
    {
      "cell_type": "markdown",
      "source": [
        "* Similiar to Arithmetic mean, however the difference now is that each data point $X_i$ has a multiplier assosciated with it, usually denoted as $w_i$, and we dont divide the cumulitave sum by the number of data points anymore\n",
        "* The formula is: $$ \\mu = \\sum_{i=1}^{N} w_i \\cdot X_i $$"
      ],
      "metadata": {
        "id": "BHhq0H4nHdJ3"
      }
    },
    {
      "cell_type": "code",
      "source": [
        "# In the context of financial math, suppose we have some portfolio\n",
        "# Each X_i represent different asset classes, i.e. equities, bonds, real estate and etc.\n",
        "# Then we could have for example given the equities in our portfolio %70 weight in measuing the Weighted Mean"
      ],
      "metadata": {
        "id": "jRHOsFVvHM3i"
      },
      "execution_count": 3,
      "outputs": []
    },
    {
      "cell_type": "markdown",
      "source": [
        "#Weighted Arithmetic Mean"
      ],
      "metadata": {
        "id": "ck4XhhuJInCb"
      }
    },
    {
      "cell_type": "markdown",
      "source": [
        "* Weighted Artihmetic Mean is just a special case of Weighted mean in which case $\\sum_{i=1}^{N} w_i = 1$"
      ],
      "metadata": {
        "id": "cyqFjMDEIp-y"
      }
    },
    {
      "cell_type": "markdown",
      "source": [
        "# Median"
      ],
      "metadata": {
        "id": "M6MofLuEI2QW"
      }
    },
    {
      "cell_type": "markdown",
      "source": [
        "\n",
        "\n",
        "*   The median is simply the exact data point which occurs right in the middle of the list of data points when arranged in decreasing or ascending manner.\n",
        "*   In the case where $N$ is odd, we simply just choose the $\n",
        "(n+1)/2$ term\n",
        "\n",
        "* In the case where $N$ is even, since there is no exact middle term in an even numbered objects, we simply just choose the average of the $n/2$ and $(n+2)/2$ terms.\n",
        "\n",
        "\n"
      ],
      "metadata": {
        "id": "8Wx53dO9JC7K"
      }
    },
    {
      "cell_type": "code",
      "source": [
        "print('Median of x1:', np.median(x1))\n",
        "print('Median of x2:', np.median(x2))"
      ],
      "metadata": {
        "colab": {
          "base_uri": "https://localhost:8080/"
        },
        "id": "tQ-vWBt5Ifyl",
        "outputId": "ced2e36d-f487-4333-cd2a-4ebd696dc20f"
      },
      "execution_count": 4,
      "outputs": [
        {
          "output_type": "stream",
          "name": "stdout",
          "text": [
            "Median of x1: 4.5\n",
            "Median of x2: 5.0\n"
          ]
        }
      ]
    },
    {
      "cell_type": "markdown",
      "source": [
        "#Mode"
      ],
      "metadata": {
        "id": "cHpnscxFsQls"
      }
    },
    {
      "cell_type": "markdown",
      "source": [
        "We can understand the *Mode* as the value which occurs the most among the data points, thus making it even applicable to non-numeric data as well. The *Mode* of some data set becomes extremely relevant when the underlying assumption about the data is that they are independant from one another. Meaning, suppose we were to examine the *Mode* of the outcome of weighted die over several trials, and we observe that 6 is the mode, then that informs us in which way the die is weighted to favor a certain outcome as opposed to examining the mean, which might be 4.5"
      ],
      "metadata": {
        "id": "nDDQ2yWCsRup"
      }
    },
    {
      "cell_type": "code",
      "source": [
        "# Scipy has a built-in mode function, but it will return exactly one value\n",
        "# even if two values occur the same number of times, or if no value appears more than once\n",
        "print('Mode of x1:', stats.mode(x1)[0][0])"
      ],
      "metadata": {
        "colab": {
          "base_uri": "https://localhost:8080/"
        },
        "id": "ERGgCedzbGtF",
        "outputId": "28126df0-4f03-4bb6-b42e-a8ee3ac72025"
      },
      "execution_count": 5,
      "outputs": [
        {
          "output_type": "stream",
          "name": "stdout",
          "text": [
            "Mode of x1: 0\n"
          ]
        },
        {
          "output_type": "stream",
          "name": "stderr",
          "text": [
            "<ipython-input-5-e80e56e938eb>:3: FutureWarning: Unlike other reduction functions (e.g. `skew`, `kurtosis`), the default behavior of `mode` typically preserves the axis it acts along. In SciPy 1.11.0, this behavior will change: the default value of `keepdims` will become False, the `axis` over which the statistic is taken will be eliminated, and the value None will no longer be accepted. Set `keepdims` to True or False to avoid this warning.\n",
            "  print('Mode of x1:', stats.mode(x1)[0][0])\n"
          ]
        }
      ]
    },
    {
      "cell_type": "code",
      "source": [
        "# One can also define its own, albeit rather naive implementation\n",
        "def mode(l : list[int]) -> int:\n",
        "\n",
        "    dic = dict()\n",
        "\n",
        "    for i in l:\n",
        "      if i in dic.keys():\n",
        "        dic[i] += 1\n",
        "      else:\n",
        "        dic[i] = 1\n",
        "\n",
        "    max = 0\n",
        "    val = 0\n",
        "\n",
        "    for i,j in enumerate(dic.items()):\n",
        "\n",
        "      if j[1] > max:\n",
        "\n",
        "        max = j[1]\n",
        "        val = j[0]\n",
        "\n",
        "    return val\n",
        "\n",
        "x3 = [3, 2, 3, 3, 4, 5, 5]\n",
        "(mode(x3))"
      ],
      "metadata": {
        "colab": {
          "base_uri": "https://localhost:8080/"
        },
        "id": "NSeBuSyJtUTy",
        "outputId": "3ae04c74-1947-4b5f-8369-fefd867402ad"
      },
      "execution_count": 6,
      "outputs": [
        {
          "output_type": "execute_result",
          "data": {
            "text/plain": [
              "3"
            ]
          },
          "metadata": {},
          "execution_count": 6
        }
      ]
    },
    {
      "cell_type": "markdown",
      "source": [
        "#Bins in Financial Data"
      ],
      "metadata": {
        "id": "LVeepdeN-DIA"
      }
    },
    {
      "cell_type": "markdown",
      "source": [
        "If we encounter a data set, in which all the data points do occur at most once, then it is rather difficult to find the mode and or even implement a historgram, so rather we instead can split our data set into $n$ many interval where each subinterval is some fixed length, aka bin. And then we proceed to find the *Mode* amongst the bins."
      ],
      "metadata": {
        "id": "AShOkmJ8-HfS"
      }
    },
    {
      "cell_type": "code",
      "source": [
        "# Get return data for an asset and compute the mode of the data set\n",
        "start = '2014-01-01'\n",
        "end = '2015-01-01'"
      ],
      "metadata": {
        "id": "WyPy_Ehd8po3"
      },
      "execution_count": 7,
      "outputs": []
    },
    {
      "cell_type": "code",
      "source": [
        "import yfinance as yf\n",
        "\n",
        "data = yf.download('AAPL', start='2020-01-01', end='2020-12-31')['Close']"
      ],
      "metadata": {
        "colab": {
          "base_uri": "https://localhost:8080/"
        },
        "id": "NWb9jQIv-v0u",
        "outputId": "15379488-0821-4dec-87af-5b87ff1dd4dd"
      },
      "execution_count": 8,
      "outputs": [
        {
          "output_type": "stream",
          "name": "stdout",
          "text": [
            "\r[*********************100%***********************]  1 of 1 completed\n"
          ]
        }
      ]
    },
    {
      "cell_type": "code",
      "source": [
        "returns = data.pct_change()[1:]"
      ],
      "metadata": {
        "id": "riSNcX0m-xxP"
      },
      "execution_count": 9,
      "outputs": []
    },
    {
      "cell_type": "code",
      "source": [
        "print('Mode of returns:', mode(returns))"
      ],
      "metadata": {
        "colab": {
          "base_uri": "https://localhost:8080/"
        },
        "id": "jouEEZhd_CWB",
        "outputId": "56c45615-8f17-4d28-f5ae-b9c971b99be8"
      },
      "execution_count": 10,
      "outputs": [
        {
          "output_type": "stream",
          "name": "stdout",
          "text": [
            "Mode of returns: -0.00972203551987938\n"
          ]
        }
      ]
    },
    {
      "cell_type": "code",
      "source": [
        "# np.histogram returns the frequency distribution over the bins as well as the endpoints of the bins\n",
        "hist, bins = np.histogram(returns, 20) # Break data up into 20 bins\n",
        "maxfreq = max(hist)\n",
        "\n",
        "# Find all of the bins that are hit with frequency maxfreq, then print the intervals corresponding to them\n",
        "print('Mode of bins:', [(bins[i], bins[i+1]) for i, j in enumerate(hist) if j == maxfreq])"
      ],
      "metadata": {
        "colab": {
          "base_uri": "https://localhost:8080/"
        },
        "id": "yf6G6Snp_p5d",
        "outputId": "a484926d-dc32-41bd-92b7-6e83a26dce08"
      },
      "execution_count": 11,
      "outputs": [
        {
          "output_type": "stream",
          "name": "stdout",
          "text": [
            "Mode of bins: [(-0.0044193447092110705, 0.008003416416441617)]\n"
          ]
        }
      ]
    },
    {
      "cell_type": "markdown",
      "source": [
        "#Geometric Mean"
      ],
      "metadata": {
        "id": "Kb-6QroocOkV"
      }
    },
    {
      "cell_type": "markdown",
      "source": [
        "Unlike the arithmetic mean, the geometric mean is †he multiplication of the data points with the $n$^th root of the total product:\n",
        "$$\n",
        "\\text{Geometric Mean} = \\sqrt[n]{X_1 \\cdot X_2 \\cdot ... \\cdot X_n} =\n",
        "$$\n",
        "Where each $X_i \\geq 0$ are non-negative data points.\n",
        "\n",
        "Furthermore, it is always the case that $$ \\text{Geom. Mean} \\leq \\text{Arith. Mean} $$"
      ],
      "metadata": {
        "id": "2nZUWRuScRCJ"
      }
    },
    {
      "cell_type": "code",
      "source": [
        "# Use scipy's gmean function to compute the geometric mean\n",
        "print('Geometric mean of x1:', stats.gmean(x1))\n",
        "print('Geometric mean of x2:', stats.gmean(x2))"
      ],
      "metadata": {
        "id": "PzwVPi92_uWR",
        "colab": {
          "base_uri": "https://localhost:8080/"
        },
        "outputId": "fe3ec6b0-e0c3-4263-bb13-eaac224babca"
      },
      "execution_count": 12,
      "outputs": [
        {
          "output_type": "stream",
          "name": "stdout",
          "text": [
            "Geometric mean of x1: 0.0\n",
            "Geometric mean of x2: 0.0\n"
          ]
        }
      ]
    },
    {
      "cell_type": "markdown",
      "source": [
        "What if we want to compute the geometric mean when we have negative observations? Suppose once again our data points represent asset returns, and since we are concerned with percent change, the minimum value is at most $-1$, thus it suffices to just add $1$ to each $X_i$, and instead we have:\n",
        "$$\n",
        "X' = \\sqrt[n]{(1+X_1) \\cdot (1+X_2) \\cdot ... \\cdot (1+X_n)} - 1\n",
        "$$"
      ],
      "metadata": {
        "id": "eO8vlpDFh2ot"
      }
    },
    {
      "cell_type": "code",
      "source": [
        "# Add 1 to every value in the returns array and then compute R_G\n",
        "ratios = returns + np.ones(len(returns))\n",
        "X_new = stats.gmean(ratios) - 1\n",
        "print('Geometric mean of returns:', X_new)"
      ],
      "metadata": {
        "colab": {
          "base_uri": "https://localhost:8080/"
        },
        "id": "IOESi_kwexPW",
        "outputId": "270b5072-4635-432f-c9a4-12002d260e5c"
      },
      "execution_count": 13,
      "outputs": [
        {
          "output_type": "stream",
          "name": "stdout",
          "text": [
            "Geometric mean of returns: 0.002301824223453375\n"
          ]
        }
      ]
    },
    {
      "cell_type": "markdown",
      "source": [
        "The geometric mean is defined so that if the rate of return over the whole time period were constant and equal to $X_{new}$, then the final price of the security would be the same as in the case of returns $X_1,...,X_n$."
      ],
      "metadata": {
        "id": "-UBFiqF3l4xf"
      }
    },
    {
      "cell_type": "code",
      "source": [
        "T = len(returns)\n",
        "init_price = data[0]\n",
        "final_price = data[T]\n",
        "print('Initial price:', init_price)\n",
        "print('Final price:', final_price)\n",
        "print('Final price as computed with X_new:', init_price*(1 + X_new)**T)"
      ],
      "metadata": {
        "colab": {
          "base_uri": "https://localhost:8080/"
        },
        "id": "G9WvQ4wKktm7",
        "outputId": "d8d0e381-4de0-4ea2-e229-39d781500159"
      },
      "execution_count": 14,
      "outputs": [
        {
          "output_type": "stream",
          "name": "stdout",
          "text": [
            "Initial price: 75.0875015258789\n",
            "Final price: 133.72000122070312\n",
            "Final price as computed with X_new: 133.72000122070096\n"
          ]
        }
      ]
    },
    {
      "cell_type": "markdown",
      "source": [
        "#Harmonic Mean"
      ],
      "metadata": {
        "id": "spvBhdktmGWN"
      }
    },
    {
      "cell_type": "markdown",
      "source": [
        "The least refrenced and common form of mean amongs all others. The harmonic mean of a set of numbers is calculated by taking the reciprocal of the arithmetic mean of the reciprocals of the numbers, that is:\n",
        "$$\n",
        "H := \\frac{N}{\\sum_{i=1}^{N} \\frac{1}{X_i}}\n",
        "$$\n",
        "and vice versa; the reciprocal of the harmonic mean is the arithmetic mean of the reciprocals of the observations:\n",
        "$$\n",
        "\\frac{1}{H} := \\frac{\\sum_{i=1}^{N} \\frac{1}{X_i}}{N}\n",
        "$$\n",
        "The harmonic mean is useful when averaging rates or ratios, i.e. use the harmonic mean when the numbers represent ratios or rates that are being combined or compared. It is especially appropriate when the quantities are not directly additive (e.g. speeds). The harmonic mean better represents the average rate in these cases and it is less subject to outliers compared to the arithmetic mean when used for these types of numbers."
      ],
      "metadata": {
        "id": "dY4h7znPCGHD"
      }
    },
    {
      "cell_type": "code",
      "source": [
        "print('Harmonic mean of x1:', stats.hmean(x1))\n",
        "print('Harmonic mean of x2:', stats.hmean(x2))"
      ],
      "metadata": {
        "colab": {
          "base_uri": "https://localhost:8080/"
        },
        "id": "2CBpartRmHJ1",
        "outputId": "3563a7a9-f506-4ca2-aa89-2e4103a7c780"
      },
      "execution_count": 15,
      "outputs": [
        {
          "output_type": "stream",
          "name": "stdout",
          "text": [
            "Harmonic mean of x1: 0.0\n",
            "Harmonic mean of x2: 0.0\n"
          ]
        }
      ]
    },
    {
      "cell_type": "markdown",
      "source": [
        "#Warnings to Heed\n",
        "\n",
        "\n",
        "\n",
        "*   ### Point Estimates Can Often Be Incorrect\n",
        "    Since by definition, means collapse entire datasets into one single data point, as such it can *hide* or *destroy* a lot of information. Hence in using point estimates, one should always use information relayed by taking the mean of a distribution within context of other measures such as variance, standard deviation and etc.\n",
        "*   ### Underlying Distribution Can be Wrong\n",
        "    Without properly understanding the underlying distribution of the problem at hand, one can incorrectly make use of the information provided by the mean or variance. For example; if one were to use the std. to measure the frequenct of something happenning in which case normality is automatically assumed about the data's distribution, and often this is not the case, hence why one should verify their assumptions about the distribution of the data.\n",
        "\n"
      ],
      "metadata": {
        "id": "Cn2SbW1gFL-p"
      }
    },
    {
      "cell_type": "markdown",
      "source": [
        "# Skewness"
      ],
      "metadata": {
        "id": "LJFpPxbdFS8r"
      }
    },
    {
      "cell_type": "markdown",
      "source": [
        "Skewness is a measure of the symmetry of some distribution, along it's mean. A symmetric distribution like a normal distribution has a skewness of 0.\n",
        "\n",
        "*   **Positive vs negative skewness:** A positively skewed distribution has a long tail to the right. The mean and median are greater than the mode. Examples are wealth distributions and income distributions, which have many low values but also some very high values. A negatively skewed distribution has a long tail to the left. The mean and median are less than the mode. Examples are IQ scores, which have an upper limit but no lower limit.\n",
        "*   **Measuring skewness:** The most common measure of skewness uses the third standardized moment around the mean. Positive values indicate positive skewness, negative values indicate negative skewness. The larger the absolute value, the greater the skewness.\n",
        "\n",
        "*  **Interpretation:** Skewness indicates the degree and direction of asymmetry. Positively skewed data typically has extreme high values that can influence statistics like the mean. Negatively skewed data has extreme low values that can influence the mean. Skewness helps identify outliers and non-normal distributions.\n",
        "\n",
        "* **Uses**: Examining skewness can help in selecting appropriate statistical tests, transforming data, detecting anomalies, adjusting for biases, and choosing summary statistics. Highly skewed data may require special treatment in analysis.\n",
        "\n"
      ],
      "metadata": {
        "id": "ncT0BOm6HVrJ"
      }
    },
    {
      "cell_type": "markdown",
      "source": [
        "Skewness is an important concept in asset pricing because investment returns often exhibit skewness. Here are some key ways skewness is useful in asset pricing:\n",
        "\n",
        "- Evaluating risk: Positive skewness indicates there is potential for extreme positive returns, while negative skewness indicates potential for large losses. Understanding the skewness helps assess the riskiness of an investment.\n",
        "\n",
        "- Modeling asset prices: Many asset pricing models such as the CAPM assume normal distribution of returns. However, returns often have positive skewness. Adjusting for skewness can improve asset pricing models.\n",
        "\n",
        "- Explaining anomalies: Skewness preferences can explain anomalies like the equity premium puzzle - stocks have higher average returns partly due to investors liking the positive skewness of stock returns.\n",
        "\n",
        "- Portfolio optimization: Investors may optimize portfolios to prefer positive skewness in order to increase chances of very high returns. This may lead to underweighting assets with negative skewness.\n",
        "\n",
        "- Understanding crashes: Crashes and severe market declines exhibit high negative skewness. Analyzing skewness can provide information about likelihood of crashes.\n",
        "\n",
        "- Risk management: Positions with negative skewness may require managing 'tail risk' to limit maximum potential losses. Skewness helps inform approaches to risk management.\n",
        "\n",
        "In summary, skewness is a key characteristic of asset returns that provides information about risk, affects investor behavior, and has significant implications for asset pricing models, portfolio choice, and risk management. Incorporating skewness is important for better financial decision making.\n"
      ],
      "metadata": {
        "id": "94gKPHrbOdel"
      }
    },
    {
      "cell_type": "markdown",
      "source": [
        "We use the following formula to compute skewness:\n",
        "$$\n",
        "\\text{{Skewness}} = \\frac{{E[(X - \\mu)^3]}}{{\\sigma^3}}\n",
        "$$\n",
        "\n",
        "Please note that in the skewness formula, $X$ is the random variable, $\\mu$ is the mean of $X$, $\\sigma$ is the standard deviation of $X$, and $E$ denotes the expected value."
      ],
      "metadata": {
        "id": "Y6G1LrIudFVW"
      }
    },
    {
      "cell_type": "code",
      "source": [
        "# Recall a data set is positivly skewed if the mode is smaller than the median, which is smaller than the mean.\n",
        "# A data set is negativly skewed in the event that the mean is greater than the median, which is greater than the mode.\n",
        "# So let us analyze the skewness of SPY over a certain period\n",
        "import matplotlib.pyplot as plt\n",
        "\n",
        "# Collect Data.\n",
        "price = yf.download('NVDA', start = '2022-01-01', end='2023-07-01')['Close']\n",
        "returns = price.pct_change()[1:]\n",
        "\n",
        "def skewness(X):\n",
        "    n = len(X)\n",
        "    mean_X = np.mean(X)\n",
        "    std_X = np.std(X)\n",
        "    skewness = (1/n) * np.sum((X - mean_X)**3) / std_X**3\n",
        "    return skewness\n",
        "\n",
        "def describe_skewness(skewness):\n",
        "    if skewness < -1:\n",
        "        return \"The distribution is highly skewed to the left.\"\n",
        "    elif -1 <= skewness <= -0.5:\n",
        "        return \"The distribution is moderately skewed to the left.\"\n",
        "    elif 0.5 <= skewness <= 1:\n",
        "        return \"The distribution is moderately skewed to the right.\"\n",
        "    elif skewness > 1:\n",
        "        return \"The distribution is highly skewed to the right.\"\n",
        "    elif -0.5 < skewness < 0.5:\n",
        "        return \"The distribution is approximately symmetric.\"\n",
        "    else:\n",
        "        return \"Invalid skewness value.\"\n",
        "\n",
        "# Example usage:\n",
        "skewness_value = skewness(returns)  # Assuming X is your data\n",
        "print(describe_skewness(skewness_value))\n"
      ],
      "metadata": {
        "colab": {
          "base_uri": "https://localhost:8080/"
        },
        "id": "QPTmwefgFFj8",
        "outputId": "506b16b1-eda3-46cf-f21e-92530848b771"
      },
      "execution_count": 35,
      "outputs": [
        {
          "output_type": "stream",
          "name": "stdout",
          "text": [
            "\r[*********************100%***********************]  1 of 1 completed\n",
            "The distribution is moderately skewed to the right.\n"
          ]
        }
      ]
    },
    {
      "cell_type": "code",
      "source": [
        "# By plotting the returns we can it is just barely positively skewed, that is; fewer higher values and a longer right tail\n",
        "plt.hist(returns, bins = 50);\n",
        "plt.xlabel('Returns');\n",
        "plt.ylabel('Frequency');\n",
        "plt.title('Histogram of Returns');"
      ],
      "metadata": {
        "colab": {
          "base_uri": "https://localhost:8080/",
          "height": 493
        },
        "id": "h2mA-zbhafwB",
        "outputId": "b619a24a-bf89-48d3-8c67-73c4c049f142"
      },
      "execution_count": 36,
      "outputs": [
        {
          "output_type": "display_data",
          "data": {
            "text/plain": [
              "<Figure size 640x480 with 1 Axes>"
            ],
            "image/png": "[encoded data removed]"
          },
          "metadata": {}
        }
      ]
    },
    {
      "cell_type": "code",
      "source": [],
      "metadata": {
        "id": "SliRBu9sbb1m"
      },
      "execution_count": null,
      "outputs": []
    }
  ]
}